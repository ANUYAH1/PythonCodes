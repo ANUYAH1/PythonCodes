{
 "cells": [
  {
   "cell_type": "markdown",
   "metadata": {},
   "source": [
    "## In this notebook, I want to extract kids safe urls labelled under the Kids and Teens Section <br><br> of DMOZ: http://dmoztools.net/"
   ]
  },
  {
   "cell_type": "markdown",
   "metadata": {},
   "source": [
    "### Load libraries"
   ]
  },
  {
   "cell_type": "code",
   "execution_count": 1,
   "metadata": {
    "collapsed": true
   },
   "outputs": [],
   "source": [
    "import pandas as pd\n",
    "import time\n",
    "import re\n",
    "from bs4 import BeautifulSoup\n",
    "import urllib\n",
    "from urllib.parse import urlparse\n",
    "from urllib.parse import urljoin, parse_qs ,urlparse\n",
    "import requests, json"
   ]
  },
  {
   "cell_type": "markdown",
   "metadata": {},
   "source": [
    "##### Lets run a sample"
   ]
  },
  {
   "cell_type": "code",
   "execution_count": 2,
   "metadata": {
    "collapsed": false
   },
   "outputs": [
    {
     "name": "stdout",
     "output_type": "stream",
     "text": [
      "/Kids_and_Teens/School_Time/English/\n",
      "/Kids_and_Teens/School_Time/Foreign_Languages/\n",
      "/Kids_and_Teens/School_Time/Math/\n",
      "/Kids_and_Teens/People_and_Society/Philosophy/\n",
      "/Kids_and_Teens/School_Time/Science/\n",
      "/Kids_and_Teens/School_Time/Social_Studies/\n",
      "/Kids_and_Teens/People_and_Society/Careers/\n",
      "/Kids_and_Teens/School_Time/Higher_Education/\n",
      "/Kids_and_Teens/School_Time/Home_Schooling/\n",
      "/Kids_and_Teens/School_Time/Homework_Help/\n",
      "/Kids_and_Teens/Directories/\n",
      "/Kids_and_Teens/School_Time/Learning_Games/\n",
      "/Kids_and_Teens/People_and_Society/Organizations/Student/\n",
      "/Kids_and_Teens/School_Time/Reference_Tools/\n"
     ]
    }
   ],
   "source": [
    "url= \"http://dmoztools.net/Kids_and_Teens/School_Time/\"\n",
    "page = requests.get(url)\n",
    "soup = BeautifulSoup(page.content, \"lxml\")\n",
    "\n",
    "\n",
    "for s in soup.select('.children .cat-list .cat-item a'):\n",
    "    print(s[\"href\"])"
   ]
  },
  {
   "cell_type": "code",
   "execution_count": 3,
   "metadata": {
    "collapsed": true
   },
   "outputs": [],
   "source": [
    "## All those are sub directories under the School time section of Dmoz"
   ]
  },
  {
   "cell_type": "code",
   "execution_count": 4,
   "metadata": {
    "collapsed": false
   },
   "outputs": [],
   "source": [
    "# Store the sub directories in a list\n",
    "\n",
    "url= \"http://dmoztools.net/Kids_and_Teens/School_Time/\"\n",
    "page = requests.get(url)\n",
    "soup = BeautifulSoup(page.content, \"lxml\")\n",
    "\n",
    "school_time_links =[]\n",
    "for s in soup.select('.children .cat-list .cat-item a'):\n",
    "    school_time_links.append(\"http://dmoztools.net\" +s[\"href\"])"
   ]
  },
  {
   "cell_type": "code",
   "execution_count": 5,
   "metadata": {
    "collapsed": false
   },
   "outputs": [
    {
     "data": {
      "text/plain": [
       "['http://dmoztools.net/Kids_and_Teens/School_Time/English/',\n",
       " 'http://dmoztools.net/Kids_and_Teens/School_Time/Foreign_Languages/',\n",
       " 'http://dmoztools.net/Kids_and_Teens/School_Time/Math/']"
      ]
     },
     "execution_count": 5,
     "metadata": {},
     "output_type": "execute_result"
    }
   ],
   "source": [
    "school_time_links[:3]"
   ]
  },
  {
   "cell_type": "markdown",
   "metadata": {},
   "source": [
    "\n",
    "<b>All these sub-directories also have sub-directories... \n",
    "\n",
    "We need them!</b>"
   ]
  },
  {
   "cell_type": "code",
   "execution_count": 6,
   "metadata": {
    "collapsed": true
   },
   "outputs": [],
   "source": [
    "#This Function gets all sub directories in each sub directory\n",
    "\n",
    "def get_sub_directories(l=\"\"):\n",
    "    subdirectories_links =[]\n",
    "    page = requests.get(l)\n",
    "    soup = BeautifulSoup(page.content, \"lxml\")    \n",
    "    for s in soup.select('.children .cat-list .cat-item a'):\n",
    "        subdirectories_links.append(\"http://dmoztools.net\"+s[\"href\"])\n",
    "    return subdirectories_links"
   ]
  },
  {
   "cell_type": "code",
   "execution_count": 7,
   "metadata": {
    "collapsed": false
   },
   "outputs": [
    {
     "data": {
      "text/plain": [
       "['http://dmoztools.net/Kids_and_Teens/School_Time/English/Listening/',\n",
       " 'http://dmoztools.net/Kids_and_Teens/School_Time/English/Reading/',\n",
       " 'http://dmoztools.net/Kids_and_Teens/School_Time/English/Speaking/']"
      ]
     },
     "execution_count": 7,
     "metadata": {},
     "output_type": "execute_result"
    }
   ],
   "source": [
    "get_sub_directories(\"http://dmoztools.net/Kids_and_Teens/School_Time/English/\")[:3]"
   ]
  },
  {
   "cell_type": "markdown",
   "metadata": {},
   "source": [
    "<b>Now lets get the sub directories of the previous ones and store in a list, as we need to get their individual links</b>"
   ]
  },
  {
   "cell_type": "code",
   "execution_count": 8,
   "metadata": {
    "collapsed": false
   },
   "outputs": [],
   "source": [
    "all_directories = []\n",
    "for s in school_time_links:\n",
    "    all_directories.append(get_sub_directories(s))"
   ]
  },
  {
   "cell_type": "code",
   "execution_count": 9,
   "metadata": {
    "collapsed": false
   },
   "outputs": [],
   "source": [
    "# Remove duplicates\n",
    "\n",
    "all_directories = list(set([item for sublist in all_directories for item in sublist]))"
   ]
  },
  {
   "cell_type": "code",
   "execution_count": 10,
   "metadata": {
    "collapsed": false
   },
   "outputs": [
    {
     "data": {
      "text/plain": [
       "107"
      ]
     },
     "execution_count": 10,
     "metadata": {},
     "output_type": "execute_result"
    }
   ],
   "source": [
    "len(all_directories)"
   ]
  },
  {
   "cell_type": "code",
   "execution_count": 11,
   "metadata": {
    "collapsed": false
   },
   "outputs": [
    {
     "data": {
      "text/plain": [
       "['http://dmoztools.net/Kids_and_Teens/School_Time/Social_Studies/History/',\n",
       " 'http://dmoztools.net/Kids_and_Teens/School_Time/Social_Studies/Economics/',\n",
       " 'http://dmoztools.net/Kids_and_Teens/School_Time/Science/Farming/',\n",
       " 'http://dmoztools.net/Kids_and_Teens/School_Time/English/Listening/',\n",
       " 'http://dmoztools.net/Kids_and_Teens/School_Time/Social_Studies/Geography/']"
      ]
     },
     "execution_count": 11,
     "metadata": {},
     "output_type": "execute_result"
    }
   ],
   "source": [
    "all_directories[:5]"
   ]
  },
  {
   "cell_type": "markdown",
   "metadata": {},
   "source": [
    "### Now that we have all the sub-directories, lets get the urls in these directories"
   ]
  },
  {
   "cell_type": "code",
   "execution_count": 12,
   "metadata": {
    "collapsed": true
   },
   "outputs": [],
   "source": [
    "## This function gets the urls in each directory\n",
    "\n",
    "def get_links(l =\" \"):\n",
    "    all_links =[]\n",
    "    page = requests.get(l)\n",
    "    soup = BeautifulSoup(page.content, \"lxml\")    \n",
    "    for s in soup.select('.title-and-desc a'):\n",
    "        all_links.append(s[\"href\"])\n",
    "    return all_links"
   ]
  },
  {
   "cell_type": "code",
   "execution_count": 13,
   "metadata": {
    "collapsed": false
   },
   "outputs": [],
   "source": [
    "## Now store all the urls in a list\n",
    "\n",
    "Dmoz_School_links = []\n",
    "\n",
    "for s in all_directories:\n",
    "    Dmoz_School_links.append(get_links(s))"
   ]
  },
  {
   "cell_type": "code",
   "execution_count": 14,
   "metadata": {
    "collapsed": false
   },
   "outputs": [],
   "source": [
    "Dmoz_School_links = list(set([s for k in Dmoz_School_links for s in k]))"
   ]
  },
  {
   "cell_type": "code",
   "execution_count": 15,
   "metadata": {
    "collapsed": false
   },
   "outputs": [
    {
     "data": {
      "text/plain": [
       "1214"
      ]
     },
     "execution_count": 15,
     "metadata": {},
     "output_type": "execute_result"
    }
   ],
   "source": [
    "len(Dmoz_School_links)"
   ]
  },
  {
   "cell_type": "code",
   "execution_count": 113,
   "metadata": {
    "collapsed": true
   },
   "outputs": [],
   "source": [
    "with open(\"data/dmoz_school_links_section.csv\",\"a\") as f:\n",
    "    for s in Dmoz_School_links:\n",
    "        print(s, file=f)"
   ]
  },
  {
   "cell_type": "code",
   "execution_count": null,
   "metadata": {
    "collapsed": true
   },
   "outputs": [],
   "source": []
  }
 ],
 "metadata": {
  "anaconda-cloud": {},
  "kernelspec": {
   "display_name": "Python [default]",
   "language": "python",
   "name": "python3"
  },
  "language_info": {
   "codemirror_mode": {
    "name": "ipython",
    "version": 3
   },
   "file_extension": ".py",
   "mimetype": "text/x-python",
   "name": "python",
   "nbconvert_exporter": "python",
   "pygments_lexer": "ipython3",
   "version": "3.5.2"
  }
 },
 "nbformat": 4,
 "nbformat_minor": 1
}
